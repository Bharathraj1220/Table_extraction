{
 "cells": [
  {
   "cell_type": "code",
   "execution_count": 1,
   "id": "62eea293",
   "metadata": {},
   "outputs": [
    {
     "name": "stdout",
     "output_type": "stream",
     "text": [
      "Collecting pdf2image\n",
      "  Downloading pdf2image-1.17.0-py3-none-any.whl (11 kB)\n",
      "Requirement already satisfied: pillow in /Users/yogi/anaconda3/lib/python3.10/site-packages (from pdf2image) (9.4.0)\n",
      "Installing collected packages: pdf2image\n",
      "Successfully installed pdf2image-1.17.0\n",
      "zsh:1: command not found: apt-get\n"
     ]
    }
   ],
   "source": [
    "!pip install --upgrade pip\n",
    "\n",
    "!pip install pdf2image\n",
    "!apt-get install poppler-utils\n",
    "\n",
    "!wget https://paddleocr.bj.bcebos.com/whl/layoutparser-0.0.0-py3-none-any.whl\n",
    "!pip install -U layoutparser-0.0.0-py3-none-any.whl\n",
    "\n",
    "!pip install paddlepaddle\n",
    "\n",
    "!git clone https://github.com/PaddlePaddle/PaddleOCR.git\n",
    "    \n",
    "!pip3 install \"paddleocr>=2.6.0.3\"\n",
    "!pip3 install protobuf==3.20.0"
   ]
  },
  {
   "cell_type": "code",
   "execution_count": 8,
   "id": "31244566",
   "metadata": {},
   "outputs": [
    {
     "name": "stdout",
     "output_type": "stream",
     "text": [
      "Collecting paddleocr>=2.6.0.3\n",
      "  Downloading paddleocr-2.8.0-py3-none-any.whl.metadata (19 kB)\n",
      "Collecting shapely (from paddleocr>=2.6.0.3)\n",
      "  Downloading shapely-2.0.4-cp310-cp310-macosx_10_9_x86_64.whl.metadata (7.0 kB)\n",
      "Requirement already satisfied: scikit-image in /Users/yogi/anaconda3/lib/python3.10/site-packages (from paddleocr>=2.6.0.3) (0.19.3)\n",
      "Collecting imgaug (from paddleocr>=2.6.0.3)\n",
      "  Downloading imgaug-0.4.0-py2.py3-none-any.whl.metadata (1.8 kB)\n",
      "Collecting pyclipper (from paddleocr>=2.6.0.3)\n",
      "  Downloading pyclipper-1.3.0.post5-cp310-cp310-macosx_10_9_x86_64.whl.metadata (9.0 kB)\n",
      "Collecting lmdb (from paddleocr>=2.6.0.3)\n",
      "  Downloading lmdb-1.5.1-cp310-cp310-macosx_10_9_universal2.whl.metadata (1.1 kB)\n",
      "Requirement already satisfied: tqdm in /Users/yogi/anaconda3/lib/python3.10/site-packages (from paddleocr>=2.6.0.3) (4.64.1)\n",
      "Requirement already satisfied: numpy<2.0 in /Users/yogi/anaconda3/lib/python3.10/site-packages (from paddleocr>=2.6.0.3) (1.26.4)\n",
      "Collecting rapidfuzz (from paddleocr>=2.6.0.3)\n",
      "  Downloading rapidfuzz-3.9.4-cp310-cp310-macosx_10_9_x86_64.whl.metadata (12 kB)\n",
      "Requirement already satisfied: opencv-python in /Users/yogi/anaconda3/lib/python3.10/site-packages (from paddleocr>=2.6.0.3) (4.9.0.80)\n",
      "Collecting opencv-contrib-python (from paddleocr>=2.6.0.3)\n",
      "  Downloading opencv_contrib_python-4.10.0.84-cp37-abi3-macosx_12_0_x86_64.whl.metadata (20 kB)\n",
      "Collecting cython (from paddleocr>=2.6.0.3)\n",
      "  Downloading Cython-3.0.10-cp310-cp310-macosx_10_9_x86_64.whl.metadata (3.2 kB)\n",
      "Requirement already satisfied: Pillow in /Users/yogi/anaconda3/lib/python3.10/site-packages (from paddleocr>=2.6.0.3) (9.4.0)\n",
      "Requirement already satisfied: pyyaml in /Users/yogi/anaconda3/lib/python3.10/site-packages (from paddleocr>=2.6.0.3) (6.0)\n",
      "Collecting python-docx (from paddleocr>=2.6.0.3)\n",
      "  Downloading python_docx-1.1.2-py3-none-any.whl.metadata (2.0 kB)\n",
      "Requirement already satisfied: beautifulsoup4 in /Users/yogi/anaconda3/lib/python3.10/site-packages (from paddleocr>=2.6.0.3) (4.11.1)\n",
      "Requirement already satisfied: fonttools>=4.24.0 in /Users/yogi/anaconda3/lib/python3.10/site-packages (from paddleocr>=2.6.0.3) (4.25.0)\n",
      "Collecting fire>=0.3.0 (from paddleocr>=2.6.0.3)\n",
      "  Downloading fire-0.6.0.tar.gz (88 kB)\n",
      "\u001b[2K     \u001b[90m━━━━━━━━━━━━━━━━━━━━━━━━━━━━━━━━━━━━━━━━\u001b[0m \u001b[32m88.4/88.4 kB\u001b[0m \u001b[31m1.4 MB/s\u001b[0m eta \u001b[36m0:00:00\u001b[0ma \u001b[36m0:00:01\u001b[0m\n",
      "\u001b[?25h  Preparing metadata (setup.py) ... \u001b[?25ldone\n",
      "\u001b[?25hRequirement already satisfied: six in /Users/yogi/anaconda3/lib/python3.10/site-packages (from fire>=0.3.0->paddleocr>=2.6.0.3) (1.16.0)\n",
      "Requirement already satisfied: termcolor in /Users/yogi/anaconda3/lib/python3.10/site-packages (from fire>=0.3.0->paddleocr>=2.6.0.3) (2.1.0)\n",
      "Requirement already satisfied: soupsieve>1.2 in /Users/yogi/anaconda3/lib/python3.10/site-packages (from beautifulsoup4->paddleocr>=2.6.0.3) (2.3.2.post1)\n",
      "Requirement already satisfied: scipy in /Users/yogi/anaconda3/lib/python3.10/site-packages (from imgaug->paddleocr>=2.6.0.3) (1.10.1)\n",
      "Requirement already satisfied: matplotlib in /Users/yogi/anaconda3/lib/python3.10/site-packages (from imgaug->paddleocr>=2.6.0.3) (3.7.0)\n",
      "Requirement already satisfied: imageio in /Users/yogi/anaconda3/lib/python3.10/site-packages (from imgaug->paddleocr>=2.6.0.3) (2.26.0)\n",
      "Requirement already satisfied: networkx>=2.2 in /Users/yogi/anaconda3/lib/python3.10/site-packages (from scikit-image->paddleocr>=2.6.0.3) (2.8.4)\n",
      "Requirement already satisfied: tifffile>=2019.7.26 in /Users/yogi/anaconda3/lib/python3.10/site-packages (from scikit-image->paddleocr>=2.6.0.3) (2021.7.2)\n",
      "Requirement already satisfied: PyWavelets>=1.1.1 in /Users/yogi/anaconda3/lib/python3.10/site-packages (from scikit-image->paddleocr>=2.6.0.3) (1.4.1)\n",
      "Requirement already satisfied: packaging>=20.0 in /Users/yogi/anaconda3/lib/python3.10/site-packages (from scikit-image->paddleocr>=2.6.0.3) (22.0)\n",
      "Requirement already satisfied: lxml>=3.1.0 in /Users/yogi/anaconda3/lib/python3.10/site-packages (from python-docx->paddleocr>=2.6.0.3) (4.9.1)\n",
      "Requirement already satisfied: typing-extensions>=4.9.0 in /Users/yogi/anaconda3/lib/python3.10/site-packages (from python-docx->paddleocr>=2.6.0.3) (4.12.2)\n",
      "Requirement already satisfied: contourpy>=1.0.1 in /Users/yogi/anaconda3/lib/python3.10/site-packages (from matplotlib->imgaug->paddleocr>=2.6.0.3) (1.0.5)\n",
      "Requirement already satisfied: cycler>=0.10 in /Users/yogi/anaconda3/lib/python3.10/site-packages (from matplotlib->imgaug->paddleocr>=2.6.0.3) (0.11.0)\n",
      "Requirement already satisfied: kiwisolver>=1.0.1 in /Users/yogi/anaconda3/lib/python3.10/site-packages (from matplotlib->imgaug->paddleocr>=2.6.0.3) (1.4.4)\n",
      "Requirement already satisfied: pyparsing>=2.3.1 in /Users/yogi/anaconda3/lib/python3.10/site-packages (from matplotlib->imgaug->paddleocr>=2.6.0.3) (3.0.9)\n",
      "Requirement already satisfied: python-dateutil>=2.7 in /Users/yogi/anaconda3/lib/python3.10/site-packages (from matplotlib->imgaug->paddleocr>=2.6.0.3) (2.8.2)\n",
      "Downloading paddleocr-2.8.0-py3-none-any.whl (407 kB)\n",
      "\u001b[2K   \u001b[90m━━━━━━━━━━━━━━━━━━━━━━━━━━━━━━━━━━━━━━━━\u001b[0m \u001b[32m407.3/407.3 kB\u001b[0m \u001b[31m6.0 MB/s\u001b[0m eta \u001b[36m0:00:00\u001b[0m:00:01\u001b[0m\n",
      "\u001b[?25hDownloading Cython-3.0.10-cp310-cp310-macosx_10_9_x86_64.whl (3.1 MB)\n",
      "\u001b[2K   \u001b[90m━━━━━━━━━━━━━━━━━━━━━━━━━━━━━━━━━━━━━━━━\u001b[0m \u001b[32m3.1/3.1 MB\u001b[0m \u001b[31m15.8 MB/s\u001b[0m eta \u001b[36m0:00:00\u001b[0m00:01\u001b[0m00:01\u001b[0m\n",
      "\u001b[?25hDownloading imgaug-0.4.0-py2.py3-none-any.whl (948 kB)\n",
      "\u001b[2K   \u001b[90m━━━━━━━━━━━━━━━━━━━━━━━━━━━━━━━━━━━━━━━━\u001b[0m \u001b[32m948.0/948.0 kB\u001b[0m \u001b[31m13.1 MB/s\u001b[0m eta \u001b[36m0:00:00\u001b[0m00:01\u001b[0m\n",
      "\u001b[?25hDownloading lmdb-1.5.1-cp310-cp310-macosx_10_9_universal2.whl (166 kB)\n",
      "\u001b[2K   \u001b[90m━━━━━━━━━━━━━━━━━━━━━━━━━━━━━━━━━━━━━━━━\u001b[0m \u001b[32m166.4/166.4 kB\u001b[0m \u001b[31m4.6 MB/s\u001b[0m eta \u001b[36m0:00:00\u001b[0m\n",
      "\u001b[?25hDownloading opencv_contrib_python-4.10.0.84-cp37-abi3-macosx_12_0_x86_64.whl (66.3 MB)\n",
      "\u001b[2K   \u001b[90m━━━━━━━━━━━━━━━━━━━━━━━━━━━━━━━━━━━━━━━━\u001b[0m \u001b[32m66.3/66.3 MB\u001b[0m \u001b[31m11.2 MB/s\u001b[0m eta \u001b[36m0:00:00\u001b[0m00:01\u001b[0m00:01\u001b[0m\n",
      "\u001b[?25hDownloading pyclipper-1.3.0.post5-cp310-cp310-macosx_10_9_x86_64.whl (145 kB)\n",
      "\u001b[2K   \u001b[90m━━━━━━━━━━━━━━━━━━━━━━━━━━━━━━━━━━━━━━━━\u001b[0m \u001b[32m145.7/145.7 kB\u001b[0m \u001b[31m2.5 MB/s\u001b[0m eta \u001b[36m0:00:00\u001b[0m:00:01\u001b[0m\n",
      "\u001b[?25hDownloading python_docx-1.1.2-py3-none-any.whl (244 kB)\n",
      "\u001b[2K   \u001b[90m━━━━━━━━━━━━━━━━━━━━━━━━━━━━━━━━━━━━━━━━\u001b[0m \u001b[32m244.3/244.3 kB\u001b[0m \u001b[31m4.1 MB/s\u001b[0m eta \u001b[36m0:00:00\u001b[0mta \u001b[36m0:00:01\u001b[0m\n",
      "\u001b[?25hDownloading rapidfuzz-3.9.4-cp310-cp310-macosx_10_9_x86_64.whl (2.1 MB)\n",
      "\u001b[2K   \u001b[90m━━━━━━━━━━━━━━━━━━━━━━━━━━━━━━━━━━━━━━━━\u001b[0m \u001b[32m2.1/2.1 MB\u001b[0m \u001b[31m7.3 MB/s\u001b[0m eta \u001b[36m0:00:00\u001b[0m:00:01\u001b[0m00:01\u001b[0m\n",
      "\u001b[?25hDownloading shapely-2.0.4-cp310-cp310-macosx_10_9_x86_64.whl (1.4 MB)\n",
      "\u001b[2K   \u001b[90m━━━━━━━━━━━━━━━━━━━━━━━━━━━━━━━━━━━━━━━━\u001b[0m \u001b[32m1.4/1.4 MB\u001b[0m \u001b[31m12.0 MB/s\u001b[0m eta \u001b[36m0:00:00\u001b[0m00:01\u001b[0m00:01\u001b[0m\n",
      "\u001b[?25hBuilding wheels for collected packages: fire\n",
      "  Building wheel for fire (setup.py) ... \u001b[?25ldone\n",
      "\u001b[?25h  Created wheel for fire: filename=fire-0.6.0-py2.py3-none-any.whl size=117030 sha256=a676550ea09ba8c5905c404556681154ea01606be23b0dd894d93ff3f1861f29\n",
      "  Stored in directory: /Users/yogi/Library/Caches/pip/wheels/d6/6d/5d/5b73fa0f46d01a793713f8859201361e9e581ced8c75e5c6a3\n",
      "Successfully built fire\n",
      "Installing collected packages: pyclipper, lmdb, shapely, rapidfuzz, python-docx, opencv-contrib-python, fire, cython, imgaug, paddleocr\n",
      "Successfully installed cython-3.0.10 fire-0.6.0 imgaug-0.4.0 lmdb-1.5.1 opencv-contrib-python-4.10.0.84 paddleocr-2.8.0 pyclipper-1.3.0.post5 python-docx-1.1.2 rapidfuzz-3.9.4 shapely-2.0.4\n",
      "Collecting protobuf==3.20.0\n",
      "  Downloading protobuf-3.20.0-cp310-cp310-macosx_10_9_universal2.whl.metadata (698 bytes)\n",
      "Downloading protobuf-3.20.0-cp310-cp310-macosx_10_9_universal2.whl (962 kB)\n",
      "\u001b[2K   \u001b[90m━━━━━━━━━━━━━━━━━━━━━━━━━━━━━━━━━━━━━━━━\u001b[0m \u001b[32m962.3/962.3 kB\u001b[0m \u001b[31m8.0 MB/s\u001b[0m eta \u001b[36m0:00:00\u001b[0m:00:01\u001b[0m00:01\u001b[0m\n",
      "\u001b[?25hInstalling collected packages: protobuf\n",
      "  Attempting uninstall: protobuf\n",
      "    Found existing installation: protobuf 3.20.3\n",
      "    Uninstalling protobuf-3.20.3:\n",
      "      Successfully uninstalled protobuf-3.20.3\n",
      "\u001b[31mERROR: pip's dependency resolver does not currently take into account all the packages that are installed. This behaviour is the source of the following dependency conflicts.\n",
      "tensorflow 2.10.0 requires libclang>=13.0.0, which is not installed.\n",
      "tensorflow 2.10.0 requires tensorflow-io-gcs-filesystem>=0.23.1, which is not installed.\n",
      "paddlepaddle 2.6.1 requires protobuf>=3.20.2; platform_system != \"Windows\", but you have protobuf 3.20.0 which is incompatible.\n",
      "tensorboard 2.10.0 requires protobuf<3.20,>=3.9.2, but you have protobuf 3.20.0 which is incompatible.\n",
      "tensorflow 2.10.0 requires protobuf<3.20,>=3.9.2, but you have protobuf 3.20.0 which is incompatible.\u001b[0m\u001b[31m\n",
      "\u001b[0mSuccessfully installed protobuf-3.20.0\n"
     ]
    }
   ],
   "source": [
    "!pip3 install \"paddleocr>=2.6.0.3\"\n",
    "!pip3 install protobuf==3.20.0"
   ]
  },
  {
   "cell_type": "code",
   "execution_count": 1,
   "id": "031353c7",
   "metadata": {},
   "outputs": [],
   "source": [
    "from pdf2image import convert_from_path"
   ]
  },
  {
   "cell_type": "code",
   "execution_count": 2,
   "id": "a08441d1",
   "metadata": {},
   "outputs": [],
   "source": [
    "images = convert_from_path('pdf1.pdf')"
   ]
  },
  {
   "cell_type": "code",
   "execution_count": 4,
   "id": "1b4fc7b3",
   "metadata": {},
   "outputs": [],
   "source": [
    "!mkdir pages"
   ]
  },
  {
   "cell_type": "code",
   "execution_count": 3,
   "id": "f921a25f",
   "metadata": {},
   "outputs": [],
   "source": [
    "for i in range(len(images)):\n",
    "    images[i].save(rf'pages/page{str(i)}.jpg','JPEG')"
   ]
  },
  {
   "cell_type": "code",
   "execution_count": null,
   "id": "b1a8cbb9",
   "metadata": {},
   "outputs": [],
   "source": []
  },
  {
   "cell_type": "code",
   "execution_count": 9,
   "id": "98f6743f",
   "metadata": {},
   "outputs": [
    {
     "name": "stdout",
     "output_type": "stream",
     "text": [
      "download https://paddle-model-ecology.bj.bcebos.com/model/layout-parser/ppyolov2_r50vd_dcn_365e_publaynet.tar to /Users/yogi/.paddledet/inference_model/ppyolov2_r50vd_dcn_365e_publaynet/ppyolov2_r50vd_dcn_365e_publaynet_infer/ppyolov2_r50vd_dcn_365e_publaynet.tar\n"
     ]
    },
    {
     "name": "stderr",
     "output_type": "stream",
     "text": [
      "100%|███████████████████████████████████████| 221M/221M [00:22<00:00, 9.73MiB/s]\n",
      "E0708 18:45:52.131333 377927168 analysis_config.cc:125] Please use PaddlePaddle with GPU version.\n"
     ]
    }
   ],
   "source": [
    "import cv2\n",
    "import layoutparser as lp\n",
    "image = cv2.imread(\"pages/page2.jpg\")\n",
    "image = image[..., ::-1]\n",
    "\n",
    "# load model\n",
    "model = lp.PaddleDetectionLayoutModel(config_path=\"lp://PubLayNet/ppyolov2_r50vd_dcn_365e_publaynet/config\",\n",
    "                                threshold=0.5,\n",
    "                                label_map={0: \"Text\", 1: \"Title\", 2: \"List\", 3:\"Table\", 4:\"Figure\"},\n",
    "                                enforce_cpu=False,\n",
    "                                enable_mkldnn=True)\n",
    "# detect\n",
    "layout = model.detect(image)\n",
    "\n",
    "# show result\n",
    "show_img = lp.draw_box(image, layout, box_width=3, show_element_type=True)\n",
    "show_img.show()"
   ]
  },
  {
   "cell_type": "code",
   "execution_count": 14,
   "id": "1a2d976d",
   "metadata": {},
   "outputs": [],
   "source": [
    "for i in layout:\n",
    "    if i.type == 'Table':\n",
    "        x1 = int(i.block.x_1)\n",
    "        y1 = int(i.block.y_1)\n",
    "        x2 = int(i.block.x_2)\n",
    "        y2 = int(i.block.y_2)\n",
    "        break"
   ]
  },
  {
   "cell_type": "code",
   "execution_count": 15,
   "id": "5c005a6d",
   "metadata": {},
   "outputs": [
    {
     "data": {
      "text/plain": [
       "True"
      ]
     },
     "execution_count": 15,
     "metadata": {},
     "output_type": "execute_result"
    }
   ],
   "source": [
    "cv2.imwrite('ext_table.jpg',image[y1:y2,x1:x2])"
   ]
  },
  {
   "cell_type": "code",
   "execution_count": 18,
   "id": "a7fc8a5c",
   "metadata": {
    "scrolled": true
   },
   "outputs": [
    {
     "data": {
      "text/plain": [
       "array([[[255, 255, 255],\n",
       "        [255, 255, 255],\n",
       "        [  0,   0,   0],\n",
       "        ...,\n",
       "        [255, 255, 255],\n",
       "        [250, 250, 250],\n",
       "        [255, 255, 255]],\n",
       "\n",
       "       [[255, 255, 255],\n",
       "        [255, 255, 255],\n",
       "        [255, 255, 255],\n",
       "        ...,\n",
       "        [255, 255, 255],\n",
       "        [255, 255, 255],\n",
       "        [255, 255, 255]],\n",
       "\n",
       "       [[255, 255, 255],\n",
       "        [255, 255, 255],\n",
       "        [255, 255, 255],\n",
       "        ...,\n",
       "        [255, 255, 255],\n",
       "        [255, 255, 255],\n",
       "        [255, 255, 255]],\n",
       "\n",
       "       ...,\n",
       "\n",
       "       [[255, 255, 255],\n",
       "        [255, 255, 255],\n",
       "        [255, 255, 255],\n",
       "        ...,\n",
       "        [255, 255, 255],\n",
       "        [255, 255, 255],\n",
       "        [255, 255, 255]],\n",
       "\n",
       "       [[255, 255, 255],\n",
       "        [255, 255, 255],\n",
       "        [255, 255, 255],\n",
       "        ...,\n",
       "        [253, 253, 253],\n",
       "        [255, 255, 255],\n",
       "        [245, 245, 245]],\n",
       "\n",
       "       [[255, 255, 255],\n",
       "        [255, 255, 255],\n",
       "        [253, 253, 253],\n",
       "        ...,\n",
       "        [254, 254, 254],\n",
       "        [241, 241, 241],\n",
       "        [255, 255, 255]]], dtype=uint8)"
      ]
     },
     "execution_count": 18,
     "metadata": {},
     "output_type": "execute_result"
    }
   ],
   "source": [
    "ext_table_im = image[y1:y2,x1:x2]\n",
    "ext_table_im"
   ]
  },
  {
   "cell_type": "code",
   "execution_count": 16,
   "id": "9134dfcc",
   "metadata": {},
   "outputs": [],
   "source": [
    "from paddleocr import PaddleOCR, draw_ocr"
   ]
  },
  {
   "cell_type": "code",
   "execution_count": 17,
   "id": "7016cc6b",
   "metadata": {},
   "outputs": [
    {
     "name": "stdout",
     "output_type": "stream",
     "text": [
      "download https://paddleocr.bj.bcebos.com/PP-OCRv3/english/en_PP-OCRv3_det_infer.tar to /Users/yogi/.paddleocr/whl/det/en/en_PP-OCRv3_det_infer/en_PP-OCRv3_det_infer.tar\n"
     ]
    },
    {
     "name": "stderr",
     "output_type": "stream",
     "text": [
      "100%|██████████████████████████████████████| 4.00M/4.00M [00:08<00:00, 469kiB/s]\n"
     ]
    },
    {
     "name": "stdout",
     "output_type": "stream",
     "text": [
      "download https://paddleocr.bj.bcebos.com/PP-OCRv4/english/en_PP-OCRv4_rec_infer.tar to /Users/yogi/.paddleocr/whl/rec/en/en_PP-OCRv4_rec_infer/en_PP-OCRv4_rec_infer.tar\n"
     ]
    },
    {
     "name": "stderr",
     "output_type": "stream",
     "text": [
      "100%|█████████████████████████████████████| 10.2M/10.2M [00:02<00:00, 4.19MiB/s]\n"
     ]
    },
    {
     "name": "stdout",
     "output_type": "stream",
     "text": [
      "download https://paddleocr.bj.bcebos.com/dygraph_v2.0/ch/ch_ppocr_mobile_v2.0_cls_infer.tar to /Users/yogi/.paddleocr/whl/cls/ch_ppocr_mobile_v2.0_cls_infer/ch_ppocr_mobile_v2.0_cls_infer.tar\n"
     ]
    },
    {
     "name": "stderr",
     "output_type": "stream",
     "text": [
      "100%|██████████████████████████████████████| 2.19M/2.19M [00:09<00:00, 239kiB/s]"
     ]
    },
    {
     "name": "stdout",
     "output_type": "stream",
     "text": [
      "[2024/07/08 19:56:30] ppocr DEBUG: Namespace(help='==SUPPRESS==', use_gpu=False, use_xpu=False, use_npu=False, use_mlu=False, ir_optim=True, use_tensorrt=False, min_subgraph_size=15, precision='fp32', gpu_mem=500, gpu_id=0, image_dir=None, page_num=0, det_algorithm='DB', det_model_dir='/Users/yogi/.paddleocr/whl/det/en/en_PP-OCRv3_det_infer', det_limit_side_len=960, det_limit_type='max', det_box_type='quad', det_db_thresh=0.3, det_db_box_thresh=0.6, det_db_unclip_ratio=1.5, max_batch_size=10, use_dilation=False, det_db_score_mode='fast', det_east_score_thresh=0.8, det_east_cover_thresh=0.1, det_east_nms_thresh=0.2, det_sast_score_thresh=0.5, det_sast_nms_thresh=0.2, det_pse_thresh=0, det_pse_box_thresh=0.85, det_pse_min_area=16, det_pse_scale=1, scales=[8, 16, 32], alpha=1.0, beta=1.0, fourier_degree=5, rec_algorithm='SVTR_LCNet', rec_model_dir='/Users/yogi/.paddleocr/whl/rec/en/en_PP-OCRv4_rec_infer', rec_image_inverse=True, rec_image_shape='3, 48, 320', rec_batch_num=6, max_text_length=25, rec_char_dict_path='/Users/yogi/anaconda3/lib/python3.10/site-packages/paddleocr/ppocr/utils/en_dict.txt', use_space_char=True, vis_font_path='./doc/fonts/simfang.ttf', drop_score=0.5, e2e_algorithm='PGNet', e2e_model_dir=None, e2e_limit_side_len=768, e2e_limit_type='max', e2e_pgnet_score_thresh=0.5, e2e_char_dict_path='./ppocr/utils/ic15_dict.txt', e2e_pgnet_valid_set='totaltext', e2e_pgnet_mode='fast', use_angle_cls=False, cls_model_dir='/Users/yogi/.paddleocr/whl/cls/ch_ppocr_mobile_v2.0_cls_infer', cls_image_shape='3, 48, 192', label_list=['0', '180'], cls_batch_num=6, cls_thresh=0.9, enable_mkldnn=False, cpu_threads=10, use_pdserving=False, warmup=False, sr_model_dir=None, sr_image_shape='3, 32, 128', sr_batch_num=1, draw_img_save_dir='./inference_results', save_crop_res=False, crop_res_save_dir='./output', use_mp=False, total_process_num=1, process_id=0, benchmark=False, save_log_path='./log_output/', show_log=True, use_onnx=False, return_word_box=False, output='./output', table_max_len=488, table_algorithm='TableAttn', table_model_dir=None, merge_no_span_structure=True, table_char_dict_path=None, layout_model_dir=None, layout_dict_path=None, layout_score_threshold=0.5, layout_nms_threshold=0.5, kie_algorithm='LayoutXLM', ser_model_dir=None, re_model_dir=None, use_visual_backbone=True, ser_dict_path='../train_data/XFUND/class_list_xfun.txt', ocr_order_method=None, mode='structure', image_orientation=False, layout=True, table=True, ocr=True, recovery=False, use_pdf2docx_api=False, invert=False, binarize=False, alphacolor=(255, 255, 255), lang='en', det=True, rec=True, type='ocr', savefile=False, ocr_version='PP-OCRv4', structure_version='PP-StructureV2')\n"
     ]
    },
    {
     "name": "stderr",
     "output_type": "stream",
     "text": [
      "\n"
     ]
    }
   ],
   "source": [
    "ocr = PaddleOCR(lang='en')"
   ]
  },
  {
   "cell_type": "code",
   "execution_count": 20,
   "id": "db531f37",
   "metadata": {},
   "outputs": [
    {
     "name": "stdout",
     "output_type": "stream",
     "text": [
      "555 705\n",
      "[2024/07/08 20:03:10] ppocr WARNING: Since the angle classifier is not initialized, it will not be used during the forward process\n",
      "[2024/07/08 20:03:11] ppocr DEBUG: dt_boxes num : 33, elapsed : 0.587205171585083\n",
      "[2024/07/08 20:03:19] ppocr DEBUG: rec_res num  : 33, elapsed : 8.13345980644226\n"
     ]
    }
   ],
   "source": [
    "image_path = 'ext_table.jpg'\n",
    "ext_table_im = cv2.imread(image_path)\n",
    "height = ext_table_im.shape[0]\n",
    "width = ext_table_im.shape[1]\n",
    "print(height,width)\n",
    "output = ocr.ocr(image_path)"
   ]
  },
  {
   "cell_type": "code",
   "execution_count": 170,
   "id": "d9f9a480",
   "metadata": {},
   "outputs": [],
   "source": [
    "boxes = [line[0] for line in output[0]]\n",
    "texts = [line[1][0] for line in output[0]]\n",
    "probabilities = [line[1][1] for line in output[0]]"
   ]
  },
  {
   "cell_type": "code",
   "execution_count": 171,
   "id": "2f30f821",
   "metadata": {},
   "outputs": [
    {
     "name": "stdout",
     "output_type": "stream",
     "text": [
      "[[16.0, 9.0], [70.0, 9.0], [70.0, 31.0], [16.0, 31.0]]\n",
      "[[175.0, 9.0], [255.0, 9.0], [255.0, 28.0], [175.0, 28.0]]\n",
      "[[470.0, 10.0], [612.0, 10.0], [612.0, 28.0], [470.0, 28.0]]\n",
      "[[470.0, 35.0], [634.0, 35.0], [634.0, 52.0], [470.0, 52.0]]\n",
      "[[16.0, 68.0], [56.0, 68.0], [56.0, 91.0], [16.0, 91.0]]\n",
      "[[176.0, 70.0], [265.0, 70.0], [265.0, 88.0], [176.0, 88.0]]\n",
      "[[468.0, 70.0], [530.0, 70.0], [530.0, 88.0], [468.0, 88.0]]\n",
      "[[177.0, 96.0], [341.0, 96.0], [341.0, 110.0], [177.0, 110.0]]\n",
      "[[17.0, 116.0], [46.0, 116.0], [46.0, 138.0], [17.0, 138.0]]\n",
      "[[176.0, 118.0], [364.0, 118.0], [364.0, 136.0], [176.0, 136.0]]\n",
      "[[175.0, 143.0], [389.0, 143.0], [389.0, 160.0], [175.0, 160.0]]\n",
      "[[18.0, 165.0], [55.0, 165.0], [55.0, 185.0], [18.0, 185.0]]\n",
      "[[177.0, 168.0], [370.0, 168.0], [370.0, 183.0], [177.0, 183.0]]\n",
      "[[18.0, 190.0], [56.0, 190.0], [56.0, 209.0], [18.0, 209.0]]\n",
      "[[176.0, 192.0], [370.0, 192.0], [370.0, 206.0], [176.0, 206.0]]\n",
      "[[17.0, 212.0], [46.0, 212.0], [46.0, 233.0], [17.0, 233.0]]\n",
      "[[176.0, 215.0], [323.0, 215.0], [323.0, 230.0], [176.0, 230.0]]\n",
      "[[469.0, 212.0], [577.0, 212.0], [577.0, 233.0], [469.0, 233.0]]\n",
      "[[468.0, 237.0], [654.0, 238.0], [654.0, 256.0], [468.0, 255.0]]\n",
      "[[469.0, 259.0], [644.0, 261.0], [644.0, 282.0], [469.0, 279.0]]\n",
      "[[467.0, 281.0], [601.0, 284.0], [601.0, 304.0], [467.0, 302.0]]\n",
      "[[467.0, 305.0], [591.0, 308.0], [590.0, 330.0], [466.0, 326.0]]\n",
      "[[467.0, 328.0], [534.0, 331.0], [533.0, 352.0], [466.0, 350.0]]\n",
      "[[468.0, 354.0], [682.0, 356.0], [682.0, 377.0], [468.0, 374.0]]\n",
      "[[17.0, 377.0], [98.0, 381.0], [98.0, 402.0], [16.0, 399.0]]\n",
      "[[175.0, 380.0], [216.0, 380.0], [216.0, 398.0], [175.0, 398.0]]\n",
      "[[469.0, 378.0], [578.0, 381.0], [578.0, 399.0], [469.0, 397.0]]\n",
      "[[468.0, 407.0], [655.0, 409.0], [655.0, 430.0], [468.0, 427.0]]\n",
      "[[467.0, 431.0], [645.0, 434.0], [645.0, 454.0], [467.0, 452.0]]\n",
      "[[468.0, 457.0], [600.0, 457.0], [600.0, 474.0], [468.0, 474.0]]\n",
      "[[468.0, 477.0], [592.0, 481.0], [591.0, 502.0], [467.0, 499.0]]\n",
      "[[468.0, 502.0], [533.0, 504.0], [532.0, 524.0], [467.0, 521.0]]\n",
      "[[468.0, 525.0], [683.0, 528.0], [683.0, 549.0], [468.0, 547.0]]\n"
     ]
    }
   ],
   "source": [
    "for box in boxes:\n",
    "    print(box)"
   ]
  },
  {
   "cell_type": "code",
   "execution_count": 172,
   "id": "aba13202",
   "metadata": {},
   "outputs": [
    {
     "data": {
      "text/plain": [
       "True"
      ]
     },
     "execution_count": 172,
     "metadata": {},
     "output_type": "execute_result"
    }
   ],
   "source": [
    "image_boxes = ext_table_im.copy()\n",
    "for box,text in zip(boxes,texts):\n",
    "    cv2.rectangle(image_boxes,(int(box[0][0]),int(box[0][1])),(int(box[2][0]),int(box[2][1])),(0,0,255),1)\n",
    "    cv2.putText(image_boxes,text,(int(box[0][0]),int(box[0][1])),cv2.FONT_HERSHEY_SIMPLEX,0.4,(222,0,0),2)\n",
    "cv2.imwrite('detections.jpg',image_boxes)"
   ]
  },
  {
   "cell_type": "code",
   "execution_count": 173,
   "id": "9cc3e93a",
   "metadata": {},
   "outputs": [
    {
     "data": {
      "text/plain": [
       "True"
      ]
     },
     "execution_count": 173,
     "metadata": {},
     "output_type": "execute_result"
    }
   ],
   "source": [
    "image_reconstructed = ext_table_im.copy()\n",
    "hori_boxes = []\n",
    "vert_boxes = []\n",
    "for box in boxes:\n",
    "    x_h,x_v = 0,int(box[0][0])\n",
    "    y_h,y_v = int(box[0][1]), 0\n",
    "    width_h,width_v = width, int(box[2][0]-box[0][0])\n",
    "    heig_h,heig_v = int(box[2][1]-box[0][1]),height\n",
    "    \n",
    "    hori_boxes.append([x_h,y_h,x_h+width_h,y_h+heig_h])\n",
    "    vert_boxes.append([x_v,y_v,x_v+width_v,y_v+heig_v])\n",
    "    \n",
    "    cv2.rectangle(image_reconstructed,(x_h,y_h),(x_h+width_h,y_h+heig_h),(255,0,0),1)\n",
    "    cv2.rectangle(image_reconstructed,(x_v,y_v),(x_v+width_v,y_v+heig_v),(0,255,0),1)\n",
    "    \n",
    "cv2.imwrite('hori_vert.jpg',image_reconstructed)"
   ]
  },
  {
   "cell_type": "code",
   "execution_count": 174,
   "id": "46436c26",
   "metadata": {},
   "outputs": [
    {
     "name": "stdout",
     "output_type": "stream",
     "text": [
      "tf.Tensor([ 6  0 25 30 14 27 12 22 19 16 31  3  7 23 32 28  8 20 29 18 21 10], shape=(22,), dtype=int32)\n"
     ]
    }
   ],
   "source": [
    "import tensorflow as tf\n",
    "\n",
    "horiz_out = tf.image.non_max_suppression(\n",
    "hori_boxes,\n",
    "probabilities,\n",
    "max_output_size=1000,\n",
    "iou_threshold=0.1,\n",
    "score_threshold=float('-inf'),\n",
    "name=None)\n",
    "\n",
    "print(horiz_out)"
   ]
  },
  {
   "cell_type": "code",
   "execution_count": 175,
   "id": "a0c6efcb",
   "metadata": {},
   "outputs": [
    {
     "data": {
      "text/plain": [
       "array([ 0,  3,  6,  7,  8, 10, 12, 14, 16, 18, 19, 20, 21, 22, 23, 25, 27,\n",
       "       28, 29, 30, 31, 32], dtype=int32)"
      ]
     },
     "execution_count": 175,
     "metadata": {},
     "output_type": "execute_result"
    }
   ],
   "source": [
    "import numpy as np\n",
    "\n",
    "horiz_lines = np.sort(np.array(horiz_out))\n",
    "horiz_lines"
   ]
  },
  {
   "cell_type": "code",
   "execution_count": 176,
   "id": "fc1008b2",
   "metadata": {},
   "outputs": [
    {
     "data": {
      "text/plain": [
       "True"
      ]
     },
     "execution_count": 176,
     "metadata": {},
     "output_type": "execute_result"
    }
   ],
   "source": [
    "im_nms = ext_table_im.copy()\n",
    "\n",
    "for val in horiz_lines:\n",
    "    cv2.rectangle(im_nms,(int(hori_boxes[val][0]),int(hori_boxes[val][1])),(int(hori_boxes[val][2]),int(hori_boxes[val][3])),(0,0,255),1)\n",
    "\n",
    "cv2.imwrite('im_nms.jpg',im_nms)"
   ]
  },
  {
   "cell_type": "code",
   "execution_count": 177,
   "id": "bc980771",
   "metadata": {},
   "outputs": [
    {
     "name": "stdout",
     "output_type": "stream",
     "text": [
      "tf.Tensor([6 0 1], shape=(3,), dtype=int32)\n"
     ]
    }
   ],
   "source": [
    "vert_out = tf.image.non_max_suppression(\n",
    "vert_boxes,\n",
    "probabilities,\n",
    "max_output_size=1000,\n",
    "iou_threshold=0.1,\n",
    "score_threshold=float('-inf'),\n",
    "name=None)\n",
    "\n",
    "print(vert_out)"
   ]
  },
  {
   "cell_type": "code",
   "execution_count": 178,
   "id": "d185ab19",
   "metadata": {},
   "outputs": [
    {
     "data": {
      "text/plain": [
       "array([0, 1, 6], dtype=int32)"
      ]
     },
     "execution_count": 178,
     "metadata": {},
     "output_type": "execute_result"
    }
   ],
   "source": [
    "vert_lines = np.sort(np.array(vert_out))\n",
    "vert_lines"
   ]
  },
  {
   "cell_type": "code",
   "execution_count": 179,
   "id": "343071ae",
   "metadata": {},
   "outputs": [
    {
     "data": {
      "text/plain": [
       "True"
      ]
     },
     "execution_count": 179,
     "metadata": {},
     "output_type": "execute_result"
    }
   ],
   "source": [
    "for val in vert_lines:\n",
    "    cv2.rectangle(im_nms,(int(vert_boxes[val][0]),int(vert_boxes[val][1])),(int(vert_boxes[val][2]),int(vert_boxes[val][3])),(0,0,255),1)\n",
    "\n",
    "cv2.imwrite('im_nms.jpg',im_nms)"
   ]
  },
  {
   "cell_type": "code",
   "execution_count": 180,
   "id": "62094deb",
   "metadata": {},
   "outputs": [
    {
     "name": "stdout",
     "output_type": "stream",
     "text": [
      "(22, 3)\n",
      "[['', '', ''], ['', '', ''], ['', '', ''], ['', '', ''], ['', '', ''], ['', '', ''], ['', '', ''], ['', '', ''], ['', '', ''], ['', '', ''], ['', '', ''], ['', '', ''], ['', '', ''], ['', '', ''], ['', '', ''], ['', '', ''], ['', '', ''], ['', '', ''], ['', '', ''], ['', '', ''], ['', '', ''], ['', '', '']]\n"
     ]
    }
   ],
   "source": [
    "out_array = [[\"\" for i in range(len(vert_lines))] for j in range(len(horiz_lines))]\n",
    "print(np.array(out_array).shape)\n",
    "print(out_array)"
   ]
  },
  {
   "cell_type": "code",
   "execution_count": 181,
   "id": "6c75c339",
   "metadata": {},
   "outputs": [
    {
     "name": "stdout",
     "output_type": "stream",
     "text": [
      "[16, 0, 70, 555]\n",
      "[175, 0, 255, 555]\n",
      "[468, 0, 530, 555]\n"
     ]
    },
    {
     "data": {
      "text/plain": [
       "array([0, 1, 2])"
      ]
     },
     "execution_count": 181,
     "metadata": {},
     "output_type": "execute_result"
    }
   ],
   "source": [
    "unordered_boxes = []\n",
    "\n",
    "for i in vert_lines:\n",
    "    print(vert_boxes[i])\n",
    "    unordered_boxes.append(vert_boxes[i][0])\n",
    "\n",
    "ordered_boxes = np.argsort(unordered_boxes)\n",
    "ordered_boxes"
   ]
  },
  {
   "cell_type": "code",
   "execution_count": 182,
   "id": "b9f5f8d5",
   "metadata": {},
   "outputs": [],
   "source": [
    "def intersection(box_1,box_2):\n",
    "    return [box_2[0],box_1[1],box_2[2],box_1[3]]"
   ]
  },
  {
   "cell_type": "code",
   "execution_count": 183,
   "id": "4c2b43f3",
   "metadata": {},
   "outputs": [],
   "source": [
    "def iou(box_1,box_2):\n",
    "    x_1 = max(box_1[0],box_2[0])    \n",
    "    y_1 = max(box_1[1],box_2[1])    \n",
    "    x_2 = min(box_1[2],box_2[2])\n",
    "    y_2 = min(box_1[3],box_2[3])\n",
    "    \n",
    "    inter = abs(max((x_2-x_1),0)*max((y_2-y_1),0))\n",
    "    if inter == 0:\n",
    "        return 0\n",
    "    \n",
    "    box_1_area = abs((box_1[2]-box_1[0])*(box_1[3]-box_1[1]))    \n",
    "    box_2_area = abs((box_2[2]-box_2[0])*(box_2[3]-box_2[1]))\n",
    "    \n",
    "    return inter / float(box_1_area+box_2_area-inter)"
   ]
  },
  {
   "cell_type": "code",
   "execution_count": 184,
   "id": "cd0db591",
   "metadata": {},
   "outputs": [],
   "source": [
    "for i in range(len(horiz_lines)):\n",
    "    for j in range(len(vert_lines)):\n",
    "        resultant = intersection(hori_boxes[horiz_lines[i]],vert_boxes[vert_lines[ordered_boxes[j]]])\n",
    "        \n",
    "        for b in range(len(boxes)):\n",
    "            the_box = [boxes[b][0][0],boxes[b][0][1],boxes[b][2][0],boxes[b][2][1]]\n",
    "            if(iou(resultant,the_box)>0.1):\n",
    "                out_array[i][j] = texts[b]"
   ]
  },
  {
   "cell_type": "code",
   "execution_count": 185,
   "id": "b59b28ed",
   "metadata": {},
   "outputs": [
    {
     "data": {
      "text/plain": [
       "[['Paper', 'Classifier', 'Unbalanced data'],\n",
       " ['', '', 'handling technique'],\n",
       " ['[27]', 'CNN-LSTM', 'SMOTE'],\n",
       " ['', 'SVMLRCNN-LSTM', ''],\n",
       " ['[1]', 'Decision Tree,RF,ANN', ''],\n",
       " ['', 'LSTM,Autoenconder, CNN', ''],\n",
       " ['[18]', 'LRRFSVMANNCNN', ''],\n",
       " ['[17]', 'LRRFSVMANNCNN', ''],\n",
       " ['[6]', 'LRRFSVMANN', 'class weights,'],\n",
       " ['', '', 'random undersampling'],\n",
       " ['', '', 'random oversampling'],\n",
       " ['', '', 'k-medoids based'],\n",
       " ['', '', 'undersampling,'],\n",
       " ['', '', 'SMOTE,'],\n",
       " ['', '', 'cluster-based oversampling'],\n",
       " ['This paper', 'CNN', 'class weights,'],\n",
       " ['', '', 'random undersampling'],\n",
       " ['', '', 'random oversampling,'],\n",
       " ['', '', 'k-medoids based'],\n",
       " ['', '', 'undersampling,'],\n",
       " ['', '', 'SMOTE,'],\n",
       " ['', '', 'cluster-based oversampling']]"
      ]
     },
     "execution_count": 185,
     "metadata": {},
     "output_type": "execute_result"
    }
   ],
   "source": [
    "out_array"
   ]
  },
  {
   "cell_type": "code",
   "execution_count": 186,
   "id": "0898b891",
   "metadata": {},
   "outputs": [
    {
     "data": {
      "text/plain": [
       "array([['Paper', 'Classifier', 'Unbalanced data'],\n",
       "       ['', '', 'handling technique'],\n",
       "       ['[27]', 'CNN-LSTM', 'SMOTE'],\n",
       "       ['', 'SVMLRCNN-LSTM', ''],\n",
       "       ['[1]', 'Decision Tree,RF,ANN', ''],\n",
       "       ['', 'LSTM,Autoenconder, CNN', ''],\n",
       "       ['[18]', 'LRRFSVMANNCNN', ''],\n",
       "       ['[17]', 'LRRFSVMANNCNN', ''],\n",
       "       ['[6]', 'LRRFSVMANN', 'class weights,'],\n",
       "       ['', '', 'random undersampling'],\n",
       "       ['', '', 'random oversampling'],\n",
       "       ['', '', 'k-medoids based'],\n",
       "       ['', '', 'undersampling,'],\n",
       "       ['', '', 'SMOTE,'],\n",
       "       ['', '', 'cluster-based oversampling'],\n",
       "       ['This paper', 'CNN', 'class weights,'],\n",
       "       ['', '', 'random undersampling'],\n",
       "       ['', '', 'random oversampling,'],\n",
       "       ['', '', 'k-medoids based'],\n",
       "       ['', '', 'undersampling,'],\n",
       "       ['', '', 'SMOTE,'],\n",
       "       ['', '', 'cluster-based oversampling']], dtype='<U26')"
      ]
     },
     "execution_count": 186,
     "metadata": {},
     "output_type": "execute_result"
    }
   ],
   "source": [
    "out_array=np.array(out_array)\n",
    "out_array"
   ]
  },
  {
   "cell_type": "code",
   "execution_count": 187,
   "id": "3602c189",
   "metadata": {},
   "outputs": [],
   "source": [
    "import pandas as pd\n",
    "\n",
    "pd.DataFrame(out_array).to_csv('sample.csv')"
   ]
  },
  {
   "cell_type": "code",
   "execution_count": null,
   "id": "5fa3b679",
   "metadata": {},
   "outputs": [],
   "source": []
  },
  {
   "cell_type": "code",
   "execution_count": null,
   "id": "1d9289dc",
   "metadata": {},
   "outputs": [],
   "source": []
  },
  {
   "cell_type": "code",
   "execution_count": null,
   "id": "aee62a74",
   "metadata": {},
   "outputs": [],
   "source": []
  },
  {
   "cell_type": "code",
   "execution_count": null,
   "id": "39544c1c",
   "metadata": {},
   "outputs": [],
   "source": []
  },
  {
   "cell_type": "code",
   "execution_count": null,
   "id": "b7cb3413",
   "metadata": {},
   "outputs": [],
   "source": []
  },
  {
   "cell_type": "code",
   "execution_count": null,
   "id": "6c2260bd",
   "metadata": {},
   "outputs": [],
   "source": []
  },
  {
   "cell_type": "code",
   "execution_count": null,
   "id": "7fa928dc",
   "metadata": {},
   "outputs": [],
   "source": []
  },
  {
   "cell_type": "code",
   "execution_count": null,
   "id": "b6219478",
   "metadata": {},
   "outputs": [],
   "source": []
  },
  {
   "cell_type": "code",
   "execution_count": null,
   "id": "f8274c08",
   "metadata": {},
   "outputs": [],
   "source": []
  }
 ],
 "metadata": {
  "kernelspec": {
   "display_name": "Python 3 (ipykernel)",
   "language": "python",
   "name": "python3"
  },
  "language_info": {
   "codemirror_mode": {
    "name": "ipython",
    "version": 3
   },
   "file_extension": ".py",
   "mimetype": "text/x-python",
   "name": "python",
   "nbconvert_exporter": "python",
   "pygments_lexer": "ipython3",
   "version": "3.10.9"
  }
 },
 "nbformat": 4,
 "nbformat_minor": 5
}
